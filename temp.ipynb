{
 "cells": [
  {
   "cell_type": "code",
   "execution_count": null,
   "id": "5b0df922",
   "metadata": {},
   "outputs": [],
   "source": [
    "\n",
    "df_prep = bpd.read_gbq(\"ml-pipeline-459822.data.raw_features\")"
   ]
  },
  {
   "cell_type": "markdown",
   "id": "c0ca607c",
   "metadata": {},
   "source": [
    "Moving on to the part of the project more related to Machine Learning, we will begin by preparing the data: "
   ]
  },
  {
   "cell_type": "code",
   "execution_count": null,
   "id": "6cc65191",
   "metadata": {},
   "outputs": [
    {
     "data": {
      "text/plain": [
       "(406235959, 28)"
      ]
     },
     "metadata": {},
     "output_type": "display_data"
    }
   ],
   "source": [
    "df_prep.shape"
   ]
  },
  {
   "cell_type": "markdown",
   "id": "a7b0deef",
   "metadata": {},
   "source": []
  },
  {
   "cell_type": "markdown",
   "id": "b1991e6d",
   "metadata": {},
   "source": [
    "**Null Values**"
   ]
  },
  {
   "cell_type": "code",
   "execution_count": null,
   "id": "f95aca40",
   "metadata": {},
   "outputs": [
    {
     "name": "stdout",
     "output_type": "stream",
     "text": [
      "                Valores Nulos  Porcentagem (%)                    Tipo de Dado\n",
      "DEATHTIME           322990383        79.508073  timestamp[us, tz=UTC][pyarrow]\n",
      "VALUEUOM            263805454        64.938972                 string[pyarrow]\n",
      "WARNING             244699816        60.235883                           Int64\n",
      "ERROR               244699816        60.235883                           Int64\n",
      "CATEGORY            231786777        57.057179                 string[pyarrow]\n",
      "VALUENUM            223935703        55.124540                         Float64\n",
      "LANGUAGE            147914602        36.411007                 string[pyarrow]\n",
      "MARITAL_STATUS       18661087         4.593657                 string[pyarrow]\n",
      "RELIGION              2693777         0.663106                 string[pyarrow]\n",
      "VALUE                 2526502         0.621930                 string[pyarrow]\n",
      "ICUSTAY_ID             261508         0.064373                           Int64\n",
      "INTIME                 261508         0.064373  timestamp[us, tz=UTC][pyarrow]\n",
      "LOS                    261508         0.064373                         Float64\n"
     ]
    }
   ],
   "source": [
    "\n",
    "missing_values = df_prep.isnull().sum()\n",
    "\n",
    "\n",
    "missing_percentage = (missing_values / len(df_prep)) * 100\n",
    "\n",
    "missing_data = pd.DataFrame({\n",
    "    'Valores Nulos': missing_values,\n",
    "    'Porcentagem (%)': missing_percentage,\n",
    "    'Tipo de Dado': df_prep.dtypes\n",
    "})\n",
    "\n",
    "\n",
    "missing_data = missing_data[missing_data['Valores Nulos'] > 0]\n",
    "print(missing_data.sort_values(by='Porcentagem (%)', ascending=False))"
   ]
  },
  {
   "cell_type": "markdown",
   "id": "735c23f0",
   "metadata": {},
   "source": [
    "Here is an approximate estimate of the percentage of missing values for some columns: \n",
    "\n",
    "DEATHTIME: ~80%\n",
    "\n",
    "WARNING: 60%\n",
    "\n",
    "ERROR: 60%\n",
    "\n",
    "LANGUAGE: ~36%\n"
   ]
  },
  {
   "cell_type": "markdown",
   "id": "915bd9c1",
   "metadata": {},
   "source": [
    "Remove columns with a high percentage of missing values: \n"
   ]
  },
  {
   "cell_type": "code",
   "execution_count": null,
   "id": "ce067302",
   "metadata": {},
   "outputs": [
    {
     "ename": "ValueError",
     "evalue": "Column name LANGUGE doesn't exist",
     "output_type": "error",
     "traceback": [
      "\u001b[31m---------------------------------------------------------------------------\u001b[39m\n",
      "\u001b[31mValueError\u001b[39m                                Traceback (most recent call last)\n",
      "\u001b[36mCell\u001b[39m\u001b[36m \u001b[39m\u001b[32mIn[32]\u001b[39m\u001b[32m, line 1\u001b[39m\n",
      "\u001b[32m----> \u001b[39m\u001b[32m1\u001b[39m df_prep = \u001b[43mdf_prep\u001b[49m\u001b[43m.\u001b[49m\u001b[43mdrop\u001b[49m\u001b[43m(\u001b[49m\u001b[43mcolumns\u001b[49m\u001b[43m=\u001b[49m\u001b[43m[\u001b[49m\u001b[33;43m'\u001b[39;49m\u001b[33;43mDEATHTIME\u001b[39;49m\u001b[33;43m'\u001b[39;49m\u001b[43m,\u001b[49m\u001b[43m \u001b[49m\u001b[33;43m'\u001b[39;49m\u001b[33;43mWARNING\u001b[39;49m\u001b[33;43m'\u001b[39;49m\u001b[43m,\u001b[49m\u001b[43m \u001b[49m\u001b[33;43m'\u001b[39;49m\u001b[33;43mERROR\u001b[39;49m\u001b[33;43m'\u001b[39;49m\u001b[43m,\u001b[49m\u001b[43m \u001b[49m\u001b[33;43m'\u001b[39;49m\u001b[33;43mLANGUGE\u001b[39;49m\u001b[33;43m'\u001b[39;49m\u001b[43m]\u001b[49m\u001b[43m)\u001b[49m\n",
      "\n",
      "\u001b[36mFile \u001b[39m\u001b[32m/opt/anaconda3/envs/icu-los/lib/python3.11/site-packages/bigframes/core/log_adapter.py:175\u001b[39m, in \u001b[36mmethod_logger.<locals>.wrapper\u001b[39m\u001b[34m(*args, **kwargs)\u001b[39m\n",
      "\u001b[32m    172\u001b[39m _call_stack.append(full_method_name)\n",
      "\u001b[32m    174\u001b[39m \u001b[38;5;28;01mtry\u001b[39;00m:\n",
      "\u001b[32m--> \u001b[39m\u001b[32m175\u001b[39m     \u001b[38;5;28;01mreturn\u001b[39;00m \u001b[43mmethod\u001b[49m\u001b[43m(\u001b[49m\u001b[43m*\u001b[49m\u001b[43margs\u001b[49m\u001b[43m,\u001b[49m\u001b[43m \u001b[49m\u001b[43m*\u001b[49m\u001b[43m*\u001b[49m\u001b[43mkwargs\u001b[49m\u001b[43m)\u001b[49m\n",
      "\u001b[32m    176\u001b[39m \u001b[38;5;28;01mexcept\u001b[39;00m (\u001b[38;5;167;01mNotImplementedError\u001b[39;00m, \u001b[38;5;167;01mTypeError\u001b[39;00m) \u001b[38;5;28;01mas\u001b[39;00m e:\n",
      "\u001b[32m    177\u001b[39m     \u001b[38;5;66;03m# Log method parameters that are implemented in pandas but either missing (TypeError)\u001b[39;00m\n",
      "\u001b[32m    178\u001b[39m     \u001b[38;5;66;03m# or not fully supported (NotImplementedError) in BigFrames.\u001b[39;00m\n",
      "\u001b[32m    179\u001b[39m     \u001b[38;5;66;03m# Logging is currently supported only when we can access the bqclient through\u001b[39;00m\n",
      "\u001b[32m    180\u001b[39m     \u001b[38;5;66;03m# _block.session.bqclient.\u001b[39;00m\n",
      "\u001b[32m    181\u001b[39m     \u001b[38;5;28;01mif\u001b[39;00m \u001b[38;5;28mlen\u001b[39m(_call_stack) == \u001b[32m1\u001b[39m:\n",
      "\n",
      "\u001b[36mFile \u001b[39m\u001b[32m/opt/anaconda3/envs/icu-los/lib/python3.11/site-packages/bigframes/dataframe.py:2013\u001b[39m, in \u001b[36mDataFrame.drop\u001b[39m\u001b[34m(self, labels, axis, index, columns, level)\u001b[39m\n",
      "\u001b[32m   2009\u001b[39m     block = block.filter_by_id(condition_id, keep_null=\u001b[38;5;28;01mTrue\u001b[39;00m).select_columns(\n",
      "\u001b[32m   2010\u001b[39m         \u001b[38;5;28mself\u001b[39m._block.value_columns\n",
      "\u001b[32m   2011\u001b[39m     )\n",
      "\u001b[32m   2012\u001b[39m \u001b[38;5;28;01mif\u001b[39;00m columns:\n",
      "\u001b[32m-> \u001b[39m\u001b[32m2013\u001b[39m     block = block.drop_columns(\u001b[38;5;28;43mself\u001b[39;49m\u001b[43m.\u001b[49m\u001b[43m_sql_names\u001b[49m\u001b[43m(\u001b[49m\u001b[43mcolumns\u001b[49m\u001b[43m)\u001b[49m)\n",
      "\u001b[32m   2014\u001b[39m \u001b[38;5;28;01mif\u001b[39;00m index \u001b[38;5;129;01mis\u001b[39;00m \u001b[38;5;28;01mNone\u001b[39;00m \u001b[38;5;129;01mand\u001b[39;00m \u001b[38;5;129;01mnot\u001b[39;00m columns:\n",
      "\u001b[32m   2015\u001b[39m     \u001b[38;5;28;01mraise\u001b[39;00m \u001b[38;5;167;01mValueError\u001b[39;00m(\u001b[33m\"\u001b[39m\u001b[33mMust specify \u001b[39m\u001b[33m'\u001b[39m\u001b[33mlabels\u001b[39m\u001b[33m'\u001b[39m\u001b[33m or \u001b[39m\u001b[33m'\u001b[39m\u001b[33mindex\u001b[39m\u001b[33m'\u001b[39m\u001b[33m/\u001b[39m\u001b[33m'\u001b[39m\u001b[33mcolumns\u001b[39m\u001b[33m\"\u001b[39m)\n",
      "\n",
      "\u001b[36mFile \u001b[39m\u001b[32m/opt/anaconda3/envs/icu-los/lib/python3.11/site-packages/bigframes/core/log_adapter.py:175\u001b[39m, in \u001b[36mmethod_logger.<locals>.wrapper\u001b[39m\u001b[34m(*args, **kwargs)\u001b[39m\n",
      "\u001b[32m    172\u001b[39m _call_stack.append(full_method_name)\n",
      "\u001b[32m    174\u001b[39m \u001b[38;5;28;01mtry\u001b[39;00m:\n",
      "\u001b[32m--> \u001b[39m\u001b[32m175\u001b[39m     \u001b[38;5;28;01mreturn\u001b[39;00m \u001b[43mmethod\u001b[49m\u001b[43m(\u001b[49m\u001b[43m*\u001b[49m\u001b[43margs\u001b[49m\u001b[43m,\u001b[49m\u001b[43m \u001b[49m\u001b[43m*\u001b[49m\u001b[43m*\u001b[49m\u001b[43mkwargs\u001b[49m\u001b[43m)\u001b[49m\n",
      "\u001b[32m    176\u001b[39m \u001b[38;5;28;01mexcept\u001b[39;00m (\u001b[38;5;167;01mNotImplementedError\u001b[39;00m, \u001b[38;5;167;01mTypeError\u001b[39;00m) \u001b[38;5;28;01mas\u001b[39;00m e:\n",
      "\u001b[32m    177\u001b[39m     \u001b[38;5;66;03m# Log method parameters that are implemented in pandas but either missing (TypeError)\u001b[39;00m\n",
      "\u001b[32m    178\u001b[39m     \u001b[38;5;66;03m# or not fully supported (NotImplementedError) in BigFrames.\u001b[39;00m\n",
      "\u001b[32m    179\u001b[39m     \u001b[38;5;66;03m# Logging is currently supported only when we can access the bqclient through\u001b[39;00m\n",
      "\u001b[32m    180\u001b[39m     \u001b[38;5;66;03m# _block.session.bqclient.\u001b[39;00m\n",
      "\u001b[32m    181\u001b[39m     \u001b[38;5;28;01mif\u001b[39;00m \u001b[38;5;28mlen\u001b[39m(_call_stack) == \u001b[32m1\u001b[39m:\n",
      "\n",
      "\u001b[36mFile \u001b[39m\u001b[32m/opt/anaconda3/envs/icu-los/lib/python3.11/site-packages/bigframes/dataframe.py:267\u001b[39m, in \u001b[36mDataFrame._sql_names\u001b[39m\u001b[34m(self, columns, tolerance)\u001b[39m\n",
      "\u001b[32m    265\u001b[39m     col_ids = \u001b[38;5;28mself\u001b[39m._block.label_to_col_id.get(label, [])\n",
      "\u001b[32m    266\u001b[39m     \u001b[38;5;28;01mif\u001b[39;00m \u001b[38;5;129;01mnot\u001b[39;00m tolerance \u001b[38;5;129;01mand\u001b[39;00m \u001b[38;5;28mlen\u001b[39m(col_ids) == \u001b[32m0\u001b[39m:\n",
      "\u001b[32m--> \u001b[39m\u001b[32m267\u001b[39m         \u001b[38;5;28;01mraise\u001b[39;00m \u001b[38;5;167;01mValueError\u001b[39;00m(\u001b[33mf\u001b[39m\u001b[33m\"\u001b[39m\u001b[33mColumn name \u001b[39m\u001b[38;5;132;01m{\u001b[39;00mlabel\u001b[38;5;132;01m}\u001b[39;00m\u001b[33m doesn\u001b[39m\u001b[33m'\u001b[39m\u001b[33mt exist\u001b[39m\u001b[33m\"\u001b[39m)\n",
      "\u001b[32m    268\u001b[39m     results = (*results, *col_ids)\n",
      "\u001b[32m    269\u001b[39m \u001b[38;5;28;01mreturn\u001b[39;00m results\n",
      "\n",
      "\u001b[31mValueError\u001b[39m: Column name LANGUGE doesn't exist"
     ]
    }
   ],
   "source": [
    "df_prep = df_prep.drop(columns=['DEATHTIME', 'WARNING', 'ERROR', 'LANGUGE'])"
   ]
  },
  {
   "cell_type": "markdown",
   "id": "c06136d0",
   "metadata": {},
   "source": [
    "**AGE**"
   ]
  },
  {
   "cell_type": "markdown",
   "id": "05faf091",
   "metadata": {},
   "source": [
    "Age is one of the variables we consider important when predicting the length of stay of a patient in the Intensive Care Unit. \n",
    "However, according to the documentation, there are age values above 300, which need to be filtered out\n",
    "\n",
    "300 = 90\n",
    "\n",
    "301 = 91\n",
    "\n",
    "(...)"
   ]
  },
  {
   "cell_type": "code",
   "execution_count": null,
   "id": "1f72fd3f",
   "metadata": {},
   "outputs": [],
   "source": [
    "df_prep['AGE'] = df_prep['ADMITTIME'].dt.year - df_prep['DOB'].dt.year\n",
    "df_prep = df_prep.assign(\n",
    "    AGE = df_prep['AGE'].where(df_prep['AGE'] < 300, df_prep['AGE'] - 300 + 90)\n",
    ")\n",
    "df_prep = df_prep.drop(columns=['ADMITTIME', 'DOB'])\n"
   ]
  },
  {
   "cell_type": "markdown",
   "id": "e2e8e4be",
   "metadata": {},
   "source": [
    "**Repeated Valuess**:"
   ]
  },
  {
   "cell_type": "code",
   "execution_count": null,
   "id": "66c54686",
   "metadata": {},
   "outputs": [
    {
     "name": "stdout",
     "output_type": "stream",
     "text": [
      "Número de linhas duplicadas: 0\n"
     ]
    }
   ],
   "source": [
    "duplicados = df_prep[df_prep.duplicated()]\n",
    "print(f\"Número de linhas duplicadas: {len(duplicados)}\")"
   ]
  },
  {
   "cell_type": "markdown",
   "id": "ad786b62",
   "metadata": {},
   "source": [
    "**Checking categorial columns**"
   ]
  },
  {
   "cell_type": "code",
   "execution_count": null,
   "id": "5ce5ccef",
   "metadata": {},
   "outputs": [
    {
     "name": "stdout",
     "output_type": "stream",
     "text": [
      "ADMISSION_TYPE: 4 valores distintos\n",
      "GENDER: 2 valores distintos\n",
      "ETHNICITY: 41 valores distintos\n",
      "RELIGION: 20 valores distintos\n",
      "LANGUAGE: 69 valores distintos\n",
      "MARITAL_STATUS: 7 valores distintos\n",
      "INSURANCE: 5 valores distintos\n",
      "LABEL: 4559 valores distintos\n",
      "CATEGORY: 56 valores distintos\n",
      "VALUE: 268260 valores distintos\n",
      "ICD9_CODE: 5 valores distintos\n"
     ]
    }
   ],
   "source": [
    "\n",
    "string_cols = [col for col, dtype in zip(df_prep.columns, df_prep.dtypes) if dtype == \"string\"]\n",
    "\n",
    "for col in string_cols:\n",
    "    count = df_prep[col].nunique()\n",
    "    print(f\"{col}: {count} distinct values\")"
   ]
  },
  {
   "cell_type": "markdown",
   "id": "114ba27e",
   "metadata": {},
   "source": [
    "We will now remove the columns containing strings, as they are unlikely to be relevant for the current classification task."
   ]
  },
  {
   "cell_type": "code",
   "execution_count": null,
   "id": "2c6a169f",
   "metadata": {},
   "outputs": [],
   "source": [
    "# 2. Remover colunas indesejadas\n",
    "colunas_a_remover = ['RELIGION', 'ETHNICITY', 'MARITAL_STATUS', 'INSURANCE']\n",
    "df_prep = df_prep.drop(columns=colunas_a_remover)\n"
   ]
  },
  {
   "cell_type": "markdown",
   "id": "193920a4",
   "metadata": {},
   "source": [
    "**Gender**"
   ]
  },
  {
   "cell_type": "markdown",
   "id": "3397aa2a",
   "metadata": {},
   "source": [
    "Convert the gender columns to:  \n",
    "    \n",
    "M -> 1\n",
    "\n",
    "F -> 0"
   ]
  },
  {
   "cell_type": "code",
   "execution_count": null,
   "id": "4e641565",
   "metadata": {},
   "outputs": [],
   "source": [
    "\n",
    "df_prep[\"GENDER\"] = df_prep[\"GENDER\"].map({\"F\": 0, \"M\": 1})\n"
   ]
  },
  {
   "cell_type": "markdown",
   "id": "aff52d16",
   "metadata": {},
   "source": [
    "Since the 'LABEL' table contains many distinct values, they are grouped into categories in the 'CATEGORY' columns, so we only need to keep this columns as relevant "
   ]
  },
  {
   "cell_type": "code",
   "execution_count": null,
   "id": "46c90f5e",
   "metadata": {},
   "outputs": [],
   "source": [
    "df_prep[\"CATEGORY\"].head(10)"
   ]
  },
  {
   "cell_type": "markdown",
   "id": "1c77f954",
   "metadata": {},
   "source": [
    "**Admission Type**"
   ]
  },
  {
   "cell_type": "code",
   "execution_count": null,
   "id": "2f35f75e",
   "metadata": {},
   "outputs": [],
   "source": [
    "df_prep[\"ADMISSION_TYPE\"] = df_prep[\"ADMISSION_TYPE\"].map({\"EMERGENCY\": 0, \"ELECTIVE\": 1, \"URGENT\": 2, \"NEWBORN\": 3})"
   ]
  }
 ],
 "metadata": {
  "language_info": {
   "name": "python"
  }
 },
 "nbformat": 4,
 "nbformat_minor": 5
}
