{
 "cells": [
  {
   "cell_type": "markdown",
   "id": "46f27d40",
   "metadata": {},
   "source": [
    "# Large Scale Data Science (CC3047) - 2024/2025\n",
    "\n",
    "## Machine Learning Pipeline - Is solving this problem an actual challenge?\n",
    "\n",
    "Work by Alexandre Sousa (2022206427) and Francisco Carqueija (202205113)"
   ]
  },
  {
   "cell_type": "markdown",
   "id": "47e21d97",
   "metadata": {},
   "source": [
    "---"
   ]
  },
  {
   "cell_type": "markdown",
   "id": "ea600be4",
   "metadata": {},
   "source": [
    "The project focuses on building a Machine Learning pipeline that aims to perform large-scale data analysis on patient events in the ICU. The main focuses of this work are:\n",
    "\n",
    "-> Statistical analysis and visualization of data by patient (SUBJECT_ID)\n",
    "\n",
    "-> Prediction of length of stay in the ICU with machine learning models.\n",
    "\n",
    "-> Use appropriate tools to efficiently process large volumes of data (PySpark, MapReduce, BigQuery, etc.).\n",
    "\n",
    "-> Evaluate and discuss performance issues (execution time, profile)."
   ]
  },
  {
   "cell_type": "markdown",
   "id": "0ab14102",
   "metadata": {},
   "source": [
    "For this project we need to take into consideration the choices for our preprocessing, the choices for our data preparation, our choices on how to train and validate our models and the quality of the analysis, interpretations and discussion of results"
   ]
  },
  {
   "cell_type": "markdown",
   "id": "2c25e0e2",
   "metadata": {},
   "source": [
    "---"
   ]
  },
  {
   "cell_type": "markdown",
   "id": "634ce645",
   "metadata": {},
   "source": [
    "## Table of contents\n",
    "\n",
    "<!-- Hello World -->\n",
    "1. [Libraries Needed](#Libraries-Needed)\n",
    "2. [Introduction](#Introduction)\n",
    "    - [ADMISSIONS](#ADMISSIONS)\n",
    "    - [CHARTEVENTS](#CHARTEVENTS)\n",
    "    - [D_ITEMS](#D_ITEMS)\n",
    "    - [DIAGNOSES_ICD](#DIAGNOSES_ICD)\n",
    "    - [D_ICD_DIAGNOSES](#D_ICD_DIAGNOSES)\n",
    "    - [ICUSTAYS](#ICUSTAYS)\n",
    "    - [PATIENTS](#PATIENTS)\n",
    "    - [PROCEDURES_ICD](#PROCEDURES_ICD)\n",
    "    - [D_ICD_PROCEDURES](#D_ICD_PROCEDURES)\n",
    "3. [Data Preparation](#Data-Preparation)\n",
    "4. [Training and Validation](#Training-and-Validation)\n",
    "5. [Data Analysis](#Data-Analysis)\n",
    "6. [Conclusions](#Conclusion)\n",
    "7. [References](#References)\n",
    "\n"
   ]
  },
  {
   "cell_type": "markdown",
   "id": "e6086104",
   "metadata": {},
   "source": [
    "---"
   ]
  },
  {
   "cell_type": "markdown",
   "id": "55cdfa4a",
   "metadata": {},
   "source": [
    "## Libraries Needed "
   ]
  },
  {
   "cell_type": "code",
   "execution_count": 2,
   "id": "0526092a",
   "metadata": {},
   "outputs": [
    {
     "name": "stdout",
     "output_type": "stream",
     "text": [
      "Python 3.11.9\n"
     ]
    }
   ],
   "source": [
    "!python -V"
   ]
  },
  {
   "cell_type": "code",
   "execution_count": 3,
   "id": "aa28671f",
   "metadata": {},
   "outputs": [],
   "source": [
    "# !pip install --upgrade bigframes\n",
    "# !pip install dask dask-bigquery google-cloud-bigquery"
   ]
  },
  {
   "cell_type": "code",
   "execution_count": 4,
   "id": "5699d572",
   "metadata": {},
   "outputs": [],
   "source": [
    "# !pip install modin\n",
    "# !pip install google-cloud-bigquery\n",
    "# !pip install spark-bigquery-connector\n",
    "# !pip install pyspark"
   ]
  },
  {
   "cell_type": "code",
   "execution_count": 5,
   "id": "ade135c3",
   "metadata": {},
   "outputs": [],
   "source": [
    "# !pip install --upgrade pandas\n",
    "# !pip install --upgrade scikit-learn\n"
   ]
  },
  {
   "cell_type": "code",
   "execution_count": 6,
   "id": "38fdb316",
   "metadata": {},
   "outputs": [],
   "source": [
    "import os\n",
    "from google.cloud import bigquery\n",
    "\n",
    "os.environ[\"GOOGLE_APPLICATION_CREDENTIALS\"] = \"/Users/frankiko.mc/Desktop/UP/Keys/ml-pipeline-459822-e0958fb6a5e7.json\"\n",
    "\n",
    "client = bigquery.Client()"
   ]
  },
  {
   "cell_type": "code",
   "execution_count": 7,
   "id": "a0efd14b",
   "metadata": {},
   "outputs": [],
   "source": [
    "import bigframes as bf\n",
    "import bigframes.pandas as bpd"
   ]
  },
  {
   "cell_type": "code",
   "execution_count": 8,
   "id": "62d6352c",
   "metadata": {},
   "outputs": [],
   "source": [
    "import pandas as pd\n",
    "import dask.dataframe as dd"
   ]
  },
  {
   "cell_type": "code",
   "execution_count": 9,
   "id": "4cc26a15",
   "metadata": {},
   "outputs": [],
   "source": [
    "from sklearn.model_selection import train_test_split, cross_val_score\n",
    "from sklearn.linear_model import LinearRegression\n",
    "from sklearn.metrics import mean_squared_error"
   ]
  },
  {
   "cell_type": "code",
   "execution_count": 10,
   "id": "6c6416bf",
   "metadata": {},
   "outputs": [],
   "source": [
    "from pyspark.sql import SparkSession\n",
    "from pyspark.sql.functions import col, isnan, mean as count, when, udf, regexp_replace, coalesce, lit\n",
    "from pyspark.sql.types import IntegerType\n",
    "from pyspark.sql import functions as F"
   ]
  },
  {
   "cell_type": "code",
   "execution_count": 11,
   "id": "057288e8",
   "metadata": {},
   "outputs": [],
   "source": [
    "import matplotlib.pyplot as plt\n",
    "import math\n",
    "from datetime import datetime\n",
    "import seaborn as sns"
   ]
  },
  {
   "cell_type": "markdown",
   "id": "0cd4b8aa",
   "metadata": {},
   "source": [
    "---"
   ]
  },
  {
   "cell_type": "markdown",
   "id": "812c5f9a",
   "metadata": {},
   "source": [
    "## Introduction\n",
    "[[ go back to the top ]](#Table-of-contents)\n",
    "\n",
    "\n"
   ]
  },
  {
   "cell_type": "markdown",
   "id": "8670a48c",
   "metadata": {},
   "source": [
    "### NEED TO CHANGE !!!!!!!!!\n",
    "\n",
    "The dataset we are analysing is CHARTEVENTS.csv.gz from the MIMIC-III clinical database. \n",
    "It contains detailed time-stamped measurements and observations recorded in the ICU, including vital signs (e.g., heart rate, blood pressure, temperature), lab test results, and other patient-specific metrics. Each row corresponds to a single charted event and includes key fields such as SUBJECT_ID (patient identifier), HADM_ID (hospital admission ID), ICUSTAY_ID (ICU stay ID), ITEMID (type of measurement), CHARTTIME (timestamp), and VALUE (the observed or recorded value). The dataset is large and granular, enabling detailed temporal analysis of patient states during ICU stays, which is essential for tasks like predicting length of stay, assessing patient deterioration, and analyzing treatment outcomes."
   ]
  },
  {
   "cell_type": "markdown",
   "id": "3b52c806",
   "metadata": {},
   "source": [
    "### -Why we use bigframes.pandasand not other tools\n",
    "\n",
    "We use bigframes.pandas because it lets us work with massive BigQuery datasets using familiar pandas-like syntax, without downloading the data. All operations run in BigQuery, making it scalable and memory-efficient — ideal for analyzing MIMIC’s large medical tables.\n",
    "\n",
    "##### Why Not Other Tools\n",
    "- pandas: Loads all data into memory — crashes with large datasets.\n",
    "- cuDF: Needs a local GPU, not suited for cloud SQL queries.\n",
    "- Dask/Polars: Good for local or distributed CSVs, but don’t integrate easily with BigQuery."
   ]
  },
  {
   "cell_type": "markdown",
   "id": "13d95b3b",
   "metadata": {},
   "source": [
    "---"
   ]
  },
  {
   "cell_type": "markdown",
   "id": "ec70a46c",
   "metadata": {},
   "source": [
    "## ADMISSIONS\n",
    "[[ go back to the top ]](#Table-of-contents)\n"
   ]
  },
  {
   "cell_type": "code",
   "execution_count": null,
   "id": "60a77be2",
   "metadata": {},
   "outputs": [
    {
     "data": {
      "text/html": [
       "Query job cdd6691c-8ff3-479c-a324-a08407340547 is DONE. 0 Bytes processed. <a target=\"_blank\" href=\"https://console.cloud.google.com/bigquery?project=ml-pipeline-459822&j=bq:europe-west3:cdd6691c-8ff3-479c-a324-a08407340547&page=queryresults\">Open Job</a>"
      ],
      "text/plain": [
       "<IPython.core.display.HTML object>"
      ]
     },
     "metadata": {},
     "output_type": "display_data"
    },
    {
     "data": {
      "text/html": [
       "Query job f0d8ee52-2fce-48e2-b287-901b3363f7b4 is DONE. 10.7 MB processed. <a target=\"_blank\" href=\"https://console.cloud.google.com/bigquery?project=ml-pipeline-459822&j=bq:europe-west3:f0d8ee52-2fce-48e2-b287-901b3363f7b4&page=queryresults\">Open Job</a>"
      ],
      "text/plain": [
       "<IPython.core.display.HTML object>"
      ]
     },
     "metadata": {},
     "output_type": "display_data"
    }
   ],
   "source": [
    "df_admissions = bpd.read_gbq(\"SELECT * FROM `ml-pipeline-459822.data.admissions`\", use_cache=False)"
   ]
  },
  {
   "cell_type": "code",
   "execution_count": 13,
   "id": "453f09be",
   "metadata": {},
   "outputs": [
    {
     "data": {
      "text/html": [
       "Query job aba3570b-c073-4edd-ba7d-5d154092631a is DONE. 10.7 MB processed. <a target=\"_blank\" href=\"https://console.cloud.google.com/bigquery?project=ml-pipeline-459822&j=bq:europe-west3:aba3570b-c073-4edd-ba7d-5d154092631a&page=queryresults\">Open Job</a>"
      ],
      "text/plain": [
       "<IPython.core.display.HTML object>"
      ]
     },
     "metadata": {},
     "output_type": "display_data"
    },
    {
     "data": {
      "text/html": [
       "<div>\n",
       "<style scoped>\n",
       "    .dataframe tbody tr th:only-of-type {\n",
       "        vertical-align: middle;\n",
       "    }\n",
       "\n",
       "    .dataframe tbody tr th {\n",
       "        vertical-align: top;\n",
       "    }\n",
       "\n",
       "    .dataframe thead th {\n",
       "        text-align: right;\n",
       "    }\n",
       "</style>\n",
       "<table border=\"1\" class=\"dataframe\">\n",
       "  <thead>\n",
       "    <tr style=\"text-align: right;\">\n",
       "      <th></th>\n",
       "      <th>ROW_ID</th>\n",
       "      <th>SUBJECT_ID</th>\n",
       "      <th>HADM_ID</th>\n",
       "      <th>ADMITTIME</th>\n",
       "      <th>DISCHTIME</th>\n",
       "      <th>DEATHTIME</th>\n",
       "      <th>ADMISSION_TYPE</th>\n",
       "      <th>ADMISSION_LOCATION</th>\n",
       "      <th>DISCHARGE_LOCATION</th>\n",
       "      <th>INSURANCE</th>\n",
       "      <th>LANGUAGE</th>\n",
       "      <th>RELIGION</th>\n",
       "      <th>MARITAL_STATUS</th>\n",
       "      <th>ETHNICITY</th>\n",
       "      <th>EDREGTIME</th>\n",
       "      <th>EDOUTTIME</th>\n",
       "      <th>DIAGNOSIS</th>\n",
       "      <th>HOSPITAL_EXPIRE_FLAG</th>\n",
       "      <th>HAS_CHARTEVENTS_DATA</th>\n",
       "    </tr>\n",
       "  </thead>\n",
       "  <tbody>\n",
       "    <tr>\n",
       "      <th>0</th>\n",
       "      <td>14629</td>\n",
       "      <td>11898</td>\n",
       "      <td>108389</td>\n",
       "      <td>2128-01-13 20:55:00+00:00</td>\n",
       "      <td>2128-01-15 18:20:00+00:00</td>\n",
       "      <td>&lt;NA&gt;</td>\n",
       "      <td>EMERGENCY</td>\n",
       "      <td>EMERGENCY ROOM ADMIT</td>\n",
       "      <td>DISCH-TRAN TO PSYCH HOSP</td>\n",
       "      <td>Private</td>\n",
       "      <td>ENGL</td>\n",
       "      <td>NOT SPECIFIED</td>\n",
       "      <td>SINGLE</td>\n",
       "      <td>WHITE</td>\n",
       "      <td>2128-01-13 18:08:00+00:00</td>\n",
       "      <td>2128-01-13 22:36:00+00:00</td>\n",
       "      <td>OVERDOSE</td>\n",
       "      <td>0</td>\n",
       "      <td>1</td>\n",
       "    </tr>\n",
       "    <tr>\n",
       "      <th>1</th>\n",
       "      <td>14339</td>\n",
       "      <td>11705</td>\n",
       "      <td>165730</td>\n",
       "      <td>2165-11-18 13:40:00+00:00</td>\n",
       "      <td>2165-11-27 17:30:00+00:00</td>\n",
       "      <td>&lt;NA&gt;</td>\n",
       "      <td>NEWBORN</td>\n",
       "      <td>PHYS REFERRAL/NORMAL DELI</td>\n",
       "      <td>HOME HEALTH CARE</td>\n",
       "      <td>Private</td>\n",
       "      <td>&lt;NA&gt;</td>\n",
       "      <td>NOT SPECIFIED</td>\n",
       "      <td>&lt;NA&gt;</td>\n",
       "      <td>OTHER</td>\n",
       "      <td>&lt;NA&gt;</td>\n",
       "      <td>&lt;NA&gt;</td>\n",
       "      <td>NEWBORN</td>\n",
       "      <td>0</td>\n",
       "      <td>1</td>\n",
       "    </tr>\n",
       "    <tr>\n",
       "      <th>2</th>\n",
       "      <td>57944</td>\n",
       "      <td>96731</td>\n",
       "      <td>198001</td>\n",
       "      <td>2124-09-11 17:37:00+00:00</td>\n",
       "      <td>2124-09-13 14:38:00+00:00</td>\n",
       "      <td>&lt;NA&gt;</td>\n",
       "      <td>EMERGENCY</td>\n",
       "      <td>CLINIC REFERRAL/PREMATURE</td>\n",
       "      <td>HOME</td>\n",
       "      <td>Medicaid</td>\n",
       "      <td>ENGL</td>\n",
       "      <td>OTHER</td>\n",
       "      <td>SINGLE</td>\n",
       "      <td>BLACK/AFRICAN AMERICAN</td>\n",
       "      <td>2124-09-11 09:32:00+00:00</td>\n",
       "      <td>2124-09-11 19:17:00+00:00</td>\n",
       "      <td>ASTHMA;CHRONIC OBST PULM DISEASE</td>\n",
       "      <td>0</td>\n",
       "      <td>1</td>\n",
       "    </tr>\n",
       "    <tr>\n",
       "      <th>3</th>\n",
       "      <td>55611</td>\n",
       "      <td>89600</td>\n",
       "      <td>108570</td>\n",
       "      <td>2106-03-17 11:44:00+00:00</td>\n",
       "      <td>2106-03-20 12:50:00+00:00</td>\n",
       "      <td>2106-03-20 12:50:00+00:00</td>\n",
       "      <td>EMERGENCY</td>\n",
       "      <td>EMERGENCY ROOM ADMIT</td>\n",
       "      <td>DEAD/EXPIRED</td>\n",
       "      <td>Private</td>\n",
       "      <td>ENGL</td>\n",
       "      <td>NOT SPECIFIED</td>\n",
       "      <td>WIDOWED</td>\n",
       "      <td>WHITE</td>\n",
       "      <td>2106-03-17 10:01:00+00:00</td>\n",
       "      <td>2106-03-17 14:19:00+00:00</td>\n",
       "      <td>ACUTE SUBDURAL HEMATOMA</td>\n",
       "      <td>1</td>\n",
       "      <td>1</td>\n",
       "    </tr>\n",
       "    <tr>\n",
       "      <th>4</th>\n",
       "      <td>31247</td>\n",
       "      <td>25553</td>\n",
       "      <td>164133</td>\n",
       "      <td>2146-05-30 20:47:00+00:00</td>\n",
       "      <td>2146-06-22 23:59:00+00:00</td>\n",
       "      <td>&lt;NA&gt;</td>\n",
       "      <td>EMERGENCY</td>\n",
       "      <td>EMERGENCY ROOM ADMIT</td>\n",
       "      <td>HOME HEALTH CARE</td>\n",
       "      <td>Medicare</td>\n",
       "      <td>ENGL</td>\n",
       "      <td>CATHOLIC</td>\n",
       "      <td>WIDOWED</td>\n",
       "      <td>BLACK/AFRICAN AMERICAN</td>\n",
       "      <td>2146-05-30 19:02:00+00:00</td>\n",
       "      <td>2146-05-30 21:35:00+00:00</td>\n",
       "      <td>COPD EXACERBATION</td>\n",
       "      <td>0</td>\n",
       "      <td>1</td>\n",
       "    </tr>\n",
       "  </tbody>\n",
       "</table>\n",
       "<p>5 rows × 19 columns</p>\n",
       "</div>[5 rows x 19 columns in total]"
      ],
      "text/plain": [
       "   ROW_ID  SUBJECT_ID  HADM_ID                  ADMITTIME  \\\n",
       "0   14629       11898   108389  2128-01-13 20:55:00+00:00   \n",
       "1   14339       11705   165730  2165-11-18 13:40:00+00:00   \n",
       "2   57944       96731   198001  2124-09-11 17:37:00+00:00   \n",
       "3   55611       89600   108570  2106-03-17 11:44:00+00:00   \n",
       "4   31247       25553   164133  2146-05-30 20:47:00+00:00   \n",
       "\n",
       "                   DISCHTIME                  DEATHTIME ADMISSION_TYPE  \\\n",
       "0  2128-01-15 18:20:00+00:00                       <NA>      EMERGENCY   \n",
       "1  2165-11-27 17:30:00+00:00                       <NA>        NEWBORN   \n",
       "2  2124-09-13 14:38:00+00:00                       <NA>      EMERGENCY   \n",
       "3  2106-03-20 12:50:00+00:00  2106-03-20 12:50:00+00:00      EMERGENCY   \n",
       "4  2146-06-22 23:59:00+00:00                       <NA>      EMERGENCY   \n",
       "\n",
       "          ADMISSION_LOCATION        DISCHARGE_LOCATION INSURANCE LANGUAGE  \\\n",
       "0       EMERGENCY ROOM ADMIT  DISCH-TRAN TO PSYCH HOSP   Private     ENGL   \n",
       "1  PHYS REFERRAL/NORMAL DELI          HOME HEALTH CARE   Private     <NA>   \n",
       "2  CLINIC REFERRAL/PREMATURE                      HOME  Medicaid     ENGL   \n",
       "3       EMERGENCY ROOM ADMIT              DEAD/EXPIRED   Private     ENGL   \n",
       "4       EMERGENCY ROOM ADMIT          HOME HEALTH CARE  Medicare     ENGL   \n",
       "\n",
       "        RELIGION MARITAL_STATUS               ETHNICITY  \\\n",
       "0  NOT SPECIFIED         SINGLE                   WHITE   \n",
       "1  NOT SPECIFIED           <NA>                   OTHER   \n",
       "2          OTHER         SINGLE  BLACK/AFRICAN AMERICAN   \n",
       "3  NOT SPECIFIED        WIDOWED                   WHITE   \n",
       "4       CATHOLIC        WIDOWED  BLACK/AFRICAN AMERICAN   \n",
       "\n",
       "                   EDREGTIME                  EDOUTTIME  \\\n",
       "0  2128-01-13 18:08:00+00:00  2128-01-13 22:36:00+00:00   \n",
       "1                       <NA>                       <NA>   \n",
       "2  2124-09-11 09:32:00+00:00  2124-09-11 19:17:00+00:00   \n",
       "3  2106-03-17 10:01:00+00:00  2106-03-17 14:19:00+00:00   \n",
       "4  2146-05-30 19:02:00+00:00  2146-05-30 21:35:00+00:00   \n",
       "\n",
       "                          DIAGNOSIS  HOSPITAL_EXPIRE_FLAG  \\\n",
       "0                          OVERDOSE                     0   \n",
       "1                           NEWBORN                     0   \n",
       "2  ASTHMA;CHRONIC OBST PULM DISEASE                     0   \n",
       "3           ACUTE SUBDURAL HEMATOMA                     1   \n",
       "4                 COPD EXACERBATION                     0   \n",
       "\n",
       "   HAS_CHARTEVENTS_DATA  \n",
       "0                     1  \n",
       "1                     1  \n",
       "2                     1  \n",
       "3                     1  \n",
       "4                     1  \n",
       "\n",
       "[5 rows x 19 columns]"
      ]
     },
     "execution_count": 13,
     "metadata": {},
     "output_type": "execute_result"
    }
   ],
   "source": [
    "df_admissions.head()"
   ]
  },
  {
   "cell_type": "code",
   "execution_count": 25,
   "id": "ae874f94",
   "metadata": {},
   "outputs": [
    {
     "data": {
      "text/plain": [
       "(58976, 19)"
      ]
     },
     "execution_count": 25,
     "metadata": {},
     "output_type": "execute_result"
    }
   ],
   "source": [
    "df_admissions.shape"
   ]
  },
  {
   "cell_type": "markdown",
   "id": "f1ec9c99",
   "metadata": {},
   "source": [
    "---"
   ]
  },
  {
   "cell_type": "markdown",
   "id": "c64bb88f",
   "metadata": {},
   "source": [
    "## CHARTEVENTS\n",
    "[[ go back to the top ]](#Table-of-contents)\n"
   ]
  },
  {
   "cell_type": "code",
   "execution_count": null,
   "id": "e0d8adf8",
   "metadata": {},
   "outputs": [],
   "source": [
    "df_chartevents=bpd.read_gbq(\"ml-pipeline-459822.data.chartevents\", use_cache=False)"
   ]
  },
  {
   "cell_type": "code",
   "execution_count": null,
   "id": "fd253a9b",
   "metadata": {},
   "outputs": [
    {
     "data": {
      "text/html": [
       "Query job 979b017e-c8f5-4713-8c18-def92eaf30a7 is DONE. 29.7 GB processed. <a target=\"_blank\" href=\"https://console.cloud.google.com/bigquery?project=ml-pipeline-459822&j=bq:europe-west3:979b017e-c8f5-4713-8c18-def92eaf30a7&page=queryresults\">Open Job</a>"
      ],
      "text/plain": [
       "<IPython.core.display.HTML object>"
      ]
     },
     "metadata": {},
     "output_type": "display_data"
    },
    {
     "data": {
      "text/html": [
       "<div>\n",
       "<style scoped>\n",
       "    .dataframe tbody tr th:only-of-type {\n",
       "        vertical-align: middle;\n",
       "    }\n",
       "\n",
       "    .dataframe tbody tr th {\n",
       "        vertical-align: top;\n",
       "    }\n",
       "\n",
       "    .dataframe thead th {\n",
       "        text-align: right;\n",
       "    }\n",
       "</style>\n",
       "<table border=\"1\" class=\"dataframe\">\n",
       "  <thead>\n",
       "    <tr style=\"text-align: right;\">\n",
       "      <th></th>\n",
       "      <th>ROW_ID</th>\n",
       "      <th>SUBJECT_ID</th>\n",
       "      <th>HADM_ID</th>\n",
       "      <th>ICUSTAY_ID</th>\n",
       "      <th>ITEMID</th>\n",
       "      <th>CHARTTIME</th>\n",
       "      <th>STORETIME</th>\n",
       "      <th>CGID</th>\n",
       "      <th>VALUE</th>\n",
       "      <th>VALUENUM</th>\n",
       "      <th>VALUEUOM</th>\n",
       "      <th>WARNING</th>\n",
       "      <th>ERROR</th>\n",
       "      <th>RESULTSTATUS</th>\n",
       "      <th>STOPPED</th>\n",
       "    </tr>\n",
       "  </thead>\n",
       "  <tbody>\n",
       "    <tr>\n",
       "      <th>0</th>\n",
       "      <td>227480130</td>\n",
       "      <td>1663</td>\n",
       "      <td>162078</td>\n",
       "      <td>295174</td>\n",
       "      <td>8551</td>\n",
       "      <td>2141-04-06 07:50:00</td>\n",
       "      <td>2141-04-06 07:52:00</td>\n",
       "      <td>15004</td>\n",
       "      <td>160</td>\n",
       "      <td>160.0</td>\n",
       "      <td>mmHg</td>\n",
       "      <td>&lt;NA&gt;</td>\n",
       "      <td>&lt;NA&gt;</td>\n",
       "      <td>&lt;NA&gt;</td>\n",
       "      <td>NotStopd</td>\n",
       "    </tr>\n",
       "    <tr>\n",
       "      <th>1</th>\n",
       "      <td>35461753</td>\n",
       "      <td>234</td>\n",
       "      <td>134944</td>\n",
       "      <td>233735</td>\n",
       "      <td>776</td>\n",
       "      <td>2106-04-10 12:38:00</td>\n",
       "      <td>2106-04-10 12:42:00</td>\n",
       "      <td>15331</td>\n",
       "      <td>-3</td>\n",
       "      <td>-3.0</td>\n",
       "      <td>&lt;NA&gt;</td>\n",
       "      <td>&lt;NA&gt;</td>\n",
       "      <td>&lt;NA&gt;</td>\n",
       "      <td>Final</td>\n",
       "      <td>NotStopd</td>\n",
       "    </tr>\n",
       "    <tr>\n",
       "      <th>2</th>\n",
       "      <td>36434629</td>\n",
       "      <td>423</td>\n",
       "      <td>194013</td>\n",
       "      <td>248770</td>\n",
       "      <td>1484</td>\n",
       "      <td>2169-07-07 02:30:00</td>\n",
       "      <td>2169-07-07 04:25:00</td>\n",
       "      <td>18524</td>\n",
       "      <td>Yes</td>\n",
       "      <td>&lt;NA&gt;</td>\n",
       "      <td>&lt;NA&gt;</td>\n",
       "      <td>&lt;NA&gt;</td>\n",
       "      <td>&lt;NA&gt;</td>\n",
       "      <td>&lt;NA&gt;</td>\n",
       "      <td>NotStopd</td>\n",
       "    </tr>\n",
       "    <tr>\n",
       "      <th>3</th>\n",
       "      <td>213123811</td>\n",
       "      <td>19361</td>\n",
       "      <td>128434</td>\n",
       "      <td>276021</td>\n",
       "      <td>392</td>\n",
       "      <td>2177-02-03 04:00:00</td>\n",
       "      <td>2177-02-03 04:19:00</td>\n",
       "      <td>17704</td>\n",
       "      <td>Serous</td>\n",
       "      <td>&lt;NA&gt;</td>\n",
       "      <td>&lt;NA&gt;</td>\n",
       "      <td>&lt;NA&gt;</td>\n",
       "      <td>&lt;NA&gt;</td>\n",
       "      <td>&lt;NA&gt;</td>\n",
       "      <td>NotStopd</td>\n",
       "    </tr>\n",
       "    <tr>\n",
       "      <th>4</th>\n",
       "      <td>145067178</td>\n",
       "      <td>21838</td>\n",
       "      <td>143088</td>\n",
       "      <td>200378</td>\n",
       "      <td>3446</td>\n",
       "      <td>2136-08-14 08:00:00</td>\n",
       "      <td>2136-08-14 08:12:00</td>\n",
       "      <td>19371</td>\n",
       "      <td>33-36 weeks gest</td>\n",
       "      <td>&lt;NA&gt;</td>\n",
       "      <td>&lt;NA&gt;</td>\n",
       "      <td>&lt;NA&gt;</td>\n",
       "      <td>&lt;NA&gt;</td>\n",
       "      <td>&lt;NA&gt;</td>\n",
       "      <td>NotStopd</td>\n",
       "    </tr>\n",
       "  </tbody>\n",
       "</table>\n",
       "<p>5 rows × 15 columns</p>\n",
       "</div>[5 rows x 15 columns in total]"
      ],
      "text/plain": [
       "      ROW_ID  SUBJECT_ID  HADM_ID  ICUSTAY_ID  ITEMID            CHARTTIME  \\\n",
       "0  227480130        1663   162078      295174    8551  2141-04-06 07:50:00   \n",
       "1   35461753         234   134944      233735     776  2106-04-10 12:38:00   \n",
       "2   36434629         423   194013      248770    1484  2169-07-07 02:30:00   \n",
       "3  213123811       19361   128434      276021     392  2177-02-03 04:00:00   \n",
       "4  145067178       21838   143088      200378    3446  2136-08-14 08:00:00   \n",
       "\n",
       "             STORETIME   CGID             VALUE  VALUENUM VALUEUOM  WARNING  \\\n",
       "0  2141-04-06 07:52:00  15004               160     160.0     mmHg     <NA>   \n",
       "1  2106-04-10 12:42:00  15331                -3      -3.0     <NA>     <NA>   \n",
       "2  2169-07-07 04:25:00  18524               Yes      <NA>     <NA>     <NA>   \n",
       "3  2177-02-03 04:19:00  17704            Serous      <NA>     <NA>     <NA>   \n",
       "4  2136-08-14 08:12:00  19371  33-36 weeks gest      <NA>     <NA>     <NA>   \n",
       "\n",
       "   ERROR RESULTSTATUS   STOPPED  \n",
       "0   <NA>         <NA>  NotStopd  \n",
       "1   <NA>        Final  NotStopd  \n",
       "2   <NA>         <NA>  NotStopd  \n",
       "3   <NA>         <NA>  NotStopd  \n",
       "4   <NA>         <NA>  NotStopd  \n",
       "\n",
       "[5 rows x 15 columns]"
      ]
     },
     "execution_count": 15,
     "metadata": {},
     "output_type": "execute_result"
    }
   ],
   "source": [
    "df_chartevents.head()"
   ]
  },
  {
   "cell_type": "code",
   "execution_count": 27,
   "id": "39ea02f9",
   "metadata": {},
   "outputs": [
    {
     "ename": "NameError",
     "evalue": "name 'df_chartevents' is not defined",
     "output_type": "error",
     "traceback": [
      "\u001b[31m---------------------------------------------------------------------------\u001b[39m",
      "\u001b[31mNameError\u001b[39m                                 Traceback (most recent call last)",
      "\u001b[36mCell\u001b[39m\u001b[36m \u001b[39m\u001b[32mIn[27]\u001b[39m\u001b[32m, line 1\u001b[39m\n\u001b[32m----> \u001b[39m\u001b[32m1\u001b[39m \u001b[43mdf_chartevents\u001b[49m.shape\n",
      "\u001b[31mNameError\u001b[39m: name 'df_chartevents' is not defined"
     ]
    }
   ],
   "source": [
    "df_chartevents.shape"
   ]
  },
  {
   "cell_type": "markdown",
   "id": "24dbefac",
   "metadata": {},
   "source": [
    "De todas as colunas desta tabela, as colunas que não são precisas e podem ser descartadas, são:\n",
    "\n",
    "STORETIME -> since it records the time at which an observation was manually input or manually validadted, it is not relevant dor the context of the lenght of the stay of a patient\n",
    "CGID -> not relevant to know who validated the given measurement\n",
    "ERROR -> Como os dados com erro nas medidas tiradas não servem para prever ou correlacionar com outros dados, pois estão erradas, esta coluna não nos faz falta. Todas as linhas com erro = 0 já aqui estão.\n",
    "RESTULSTATUS, STOPPED -> Também não são precisos, pois não são relevantes para o problema em questão."
   ]
  },
  {
   "cell_type": "code",
   "execution_count": 20,
   "id": "34a0cc18",
   "metadata": {},
   "outputs": [
    {
     "ename": "NameError",
     "evalue": "name 'df_chartevents' is not defined",
     "output_type": "error",
     "traceback": [
      "\u001b[31m---------------------------------------------------------------------------\u001b[39m",
      "\u001b[31mNameError\u001b[39m                                 Traceback (most recent call last)",
      "\u001b[36mCell\u001b[39m\u001b[36m \u001b[39m\u001b[32mIn[20]\u001b[39m\u001b[32m, line 1\u001b[39m\n\u001b[32m----> \u001b[39m\u001b[32m1\u001b[39m df_chartevents = \u001b[43mdf_chartevents\u001b[49m.drop(columns=[\u001b[33m\"\u001b[39m\u001b[33mSTORETIME\u001b[39m\u001b[33m\"\u001b[39m, \u001b[33m\"\u001b[39m\u001b[33mCGID\u001b[39m\u001b[33m\"\u001b[39m])\n",
      "\u001b[31mNameError\u001b[39m: name 'df_chartevents' is not defined"
     ]
    }
   ],
   "source": [
    "df_chartevents = df_chartevents.drop(columns=[\"STORETIME\", \"CGID\"])"
   ]
  },
  {
   "cell_type": "markdown",
   "id": "78b4b1d7",
   "metadata": {},
   "source": [
    "---"
   ]
  },
  {
   "cell_type": "markdown",
   "id": "8397b991",
   "metadata": {},
   "source": [
    "## D_ITEMS\n",
    "[[ go back to the top ]](#Table-of-contents)\n"
   ]
  },
  {
   "cell_type": "code",
   "execution_count": null,
   "id": "bcf71d26",
   "metadata": {},
   "outputs": [
    {
     "data": {
      "text/html": [
       "Query job 57dd6130-9d2b-4589-b2c6-61cf6702ed82 is DONE. 916.1 kB processed. <a target=\"_blank\" href=\"https://console.cloud.google.com/bigquery?project=ml-pipeline-459822&j=bq:europe-west3:57dd6130-9d2b-4589-b2c6-61cf6702ed82&page=queryresults\">Open Job</a>"
      ],
      "text/plain": [
       "<IPython.core.display.HTML object>"
      ]
     },
     "metadata": {},
     "output_type": "display_data"
    }
   ],
   "source": [
    "df_d_items = bpd.read_gbq(\"SELECT * FROM `ml-pipeline-459822.data.d_items`\", use_cache=False)"
   ]
  },
  {
   "cell_type": "code",
   "execution_count": 17,
   "id": "00ef3040",
   "metadata": {},
   "outputs": [
    {
     "data": {
      "text/html": [
       "Query job 85244d10-30c8-4b83-92eb-190e26590ba2 is DONE. 916.1 kB processed. <a target=\"_blank\" href=\"https://console.cloud.google.com/bigquery?project=ml-pipeline-459822&j=bq:europe-west3:85244d10-30c8-4b83-92eb-190e26590ba2&page=queryresults\">Open Job</a>"
      ],
      "text/plain": [
       "<IPython.core.display.HTML object>"
      ]
     },
     "metadata": {},
     "output_type": "display_data"
    },
    {
     "data": {
      "text/html": [
       "<div>\n",
       "<style scoped>\n",
       "    .dataframe tbody tr th:only-of-type {\n",
       "        vertical-align: middle;\n",
       "    }\n",
       "\n",
       "    .dataframe tbody tr th {\n",
       "        vertical-align: top;\n",
       "    }\n",
       "\n",
       "    .dataframe thead th {\n",
       "        text-align: right;\n",
       "    }\n",
       "</style>\n",
       "<table border=\"1\" class=\"dataframe\">\n",
       "  <thead>\n",
       "    <tr style=\"text-align: right;\">\n",
       "      <th></th>\n",
       "      <th>ROW_ID</th>\n",
       "      <th>ITEMID</th>\n",
       "      <th>LABEL</th>\n",
       "      <th>ABBREVIATION</th>\n",
       "      <th>DBSOURCE</th>\n",
       "      <th>LINKSTO</th>\n",
       "      <th>CATEGORY</th>\n",
       "      <th>UNITNAME</th>\n",
       "      <th>PARAM_TYPE</th>\n",
       "      <th>CONCEPTID</th>\n",
       "    </tr>\n",
       "  </thead>\n",
       "  <tbody>\n",
       "    <tr>\n",
       "      <th>0</th>\n",
       "      <td>3325</td>\n",
       "      <td>1996</td>\n",
       "      <td>HIGH MIN. VOL.</td>\n",
       "      <td>&lt;NA&gt;</td>\n",
       "      <td>carevue</td>\n",
       "      <td>chartevents</td>\n",
       "      <td>&lt;NA&gt;</td>\n",
       "      <td>&lt;NA&gt;</td>\n",
       "      <td>&lt;NA&gt;</td>\n",
       "      <td>&lt;NA&gt;</td>\n",
       "    </tr>\n",
       "    <tr>\n",
       "      <th>1</th>\n",
       "      <td>4423</td>\n",
       "      <td>6898</td>\n",
       "      <td>TRACHEA DSG</td>\n",
       "      <td>&lt;NA&gt;</td>\n",
       "      <td>carevue</td>\n",
       "      <td>chartevents</td>\n",
       "      <td>&lt;NA&gt;</td>\n",
       "      <td>&lt;NA&gt;</td>\n",
       "      <td>&lt;NA&gt;</td>\n",
       "      <td>&lt;NA&gt;</td>\n",
       "    </tr>\n",
       "    <tr>\n",
       "      <th>2</th>\n",
       "      <td>12841</td>\n",
       "      <td>223921</td>\n",
       "      <td>Neuro Symptoms</td>\n",
       "      <td>Neuro Symptoms</td>\n",
       "      <td>metavision</td>\n",
       "      <td>chartevents</td>\n",
       "      <td>Neurological</td>\n",
       "      <td>&lt;NA&gt;</td>\n",
       "      <td>Text</td>\n",
       "      <td>&lt;NA&gt;</td>\n",
       "    </tr>\n",
       "    <tr>\n",
       "      <th>3</th>\n",
       "      <td>1655</td>\n",
       "      <td>4813</td>\n",
       "      <td>nutrition labs</td>\n",
       "      <td>&lt;NA&gt;</td>\n",
       "      <td>carevue</td>\n",
       "      <td>chartevents</td>\n",
       "      <td>&lt;NA&gt;</td>\n",
       "      <td>&lt;NA&gt;</td>\n",
       "      <td>&lt;NA&gt;</td>\n",
       "      <td>&lt;NA&gt;</td>\n",
       "    </tr>\n",
       "    <tr>\n",
       "      <th>4</th>\n",
       "      <td>556</td>\n",
       "      <td>599</td>\n",
       "      <td>RUL Lung Sounds</td>\n",
       "      <td>&lt;NA&gt;</td>\n",
       "      <td>carevue</td>\n",
       "      <td>chartevents</td>\n",
       "      <td>&lt;NA&gt;</td>\n",
       "      <td>&lt;NA&gt;</td>\n",
       "      <td>&lt;NA&gt;</td>\n",
       "      <td>&lt;NA&gt;</td>\n",
       "    </tr>\n",
       "  </tbody>\n",
       "</table>\n",
       "<p>5 rows × 10 columns</p>\n",
       "</div>[5 rows x 10 columns in total]"
      ],
      "text/plain": [
       "   ROW_ID  ITEMID            LABEL    ABBREVIATION    DBSOURCE      LINKSTO  \\\n",
       "0    3325    1996   HIGH MIN. VOL.            <NA>     carevue  chartevents   \n",
       "1    4423    6898      TRACHEA DSG            <NA>     carevue  chartevents   \n",
       "2   12841  223921   Neuro Symptoms  Neuro Symptoms  metavision  chartevents   \n",
       "3    1655    4813   nutrition labs            <NA>     carevue  chartevents   \n",
       "4     556     599  RUL Lung Sounds            <NA>     carevue  chartevents   \n",
       "\n",
       "       CATEGORY UNITNAME PARAM_TYPE CONCEPTID  \n",
       "0          <NA>     <NA>       <NA>      <NA>  \n",
       "1          <NA>     <NA>       <NA>      <NA>  \n",
       "2  Neurological     <NA>       Text      <NA>  \n",
       "3          <NA>     <NA>       <NA>      <NA>  \n",
       "4          <NA>     <NA>       <NA>      <NA>  \n",
       "\n",
       "[5 rows x 10 columns]"
      ]
     },
     "execution_count": 17,
     "metadata": {},
     "output_type": "execute_result"
    }
   ],
   "source": [
    "df_d_items.head()"
   ]
  },
  {
   "cell_type": "markdown",
   "id": "2a1648ce",
   "metadata": {},
   "source": [
    "Podemos eliminar a coluna ABBREVIATION\n",
    "\n",
    "Desta tabela não queremos eliminar alguma coluna ainda, para efeitos de análise exploratória por paciente."
   ]
  },
  {
   "cell_type": "code",
   "execution_count": null,
   "id": "a1293afc",
   "metadata": {},
   "outputs": [],
   "source": [
    "df_d_items.shape"
   ]
  },
  {
   "cell_type": "markdown",
   "id": "51f509be",
   "metadata": {},
   "source": [
    "---"
   ]
  },
  {
   "cell_type": "markdown",
   "id": "2d7c97ad",
   "metadata": {},
   "source": [
    "## DIAGNOSES_ICD\n",
    "[[ go back to the top ]](#Table-of-contents)\n"
   ]
  },
  {
   "cell_type": "code",
   "execution_count": 29,
   "id": "26e53888",
   "metadata": {},
   "outputs": [
    {
     "data": {
      "text/html": [
       "Query job 30a4abd9-79d2-46d9-a050-cf7be803f967 is DONE. 25.0 MB processed. <a target=\"_blank\" href=\"https://console.cloud.google.com/bigquery?project=ml-pipeline-459822&j=bq:europe-west3:30a4abd9-79d2-46d9-a050-cf7be803f967&page=queryresults\">Open Job</a>"
      ],
      "text/plain": [
       "<IPython.core.display.HTML object>"
      ]
     },
     "metadata": {},
     "output_type": "display_data"
    }
   ],
   "source": [
    "df_diagnoses_icd = bpd.read_gbq(\"SELECT * FROM `ml-pipeline-459822.data.diagnoses_icd`\", use_cache=False)"
   ]
  },
  {
   "cell_type": "code",
   "execution_count": null,
   "id": "d04a3cec",
   "metadata": {},
   "outputs": [
    {
     "data": {
      "text/html": [
       "Query job 488d4824-6be5-47ce-87bb-ff3bc884d9d5 is DONE. 25.0 MB processed. <a target=\"_blank\" href=\"https://console.cloud.google.com/bigquery?project=ml-pipeline-459822&j=bq:europe-west3:488d4824-6be5-47ce-87bb-ff3bc884d9d5&page=queryresults\">Open Job</a>"
      ],
      "text/plain": [
       "<IPython.core.display.HTML object>"
      ]
     },
     "metadata": {},
     "output_type": "display_data"
    },
    {
     "data": {
      "text/html": [
       "<div>\n",
       "<style scoped>\n",
       "    .dataframe tbody tr th:only-of-type {\n",
       "        vertical-align: middle;\n",
       "    }\n",
       "\n",
       "    .dataframe tbody tr th {\n",
       "        vertical-align: top;\n",
       "    }\n",
       "\n",
       "    .dataframe thead th {\n",
       "        text-align: right;\n",
       "    }\n",
       "</style>\n",
       "<table border=\"1\" class=\"dataframe\">\n",
       "  <thead>\n",
       "    <tr style=\"text-align: right;\">\n",
       "      <th></th>\n",
       "      <th>ROW_ID</th>\n",
       "      <th>SUBJECT_ID</th>\n",
       "      <th>HADM_ID</th>\n",
       "      <th>SEQ_NUM</th>\n",
       "      <th>ICD9_CODE</th>\n",
       "    </tr>\n",
       "  </thead>\n",
       "  <tbody>\n",
       "    <tr>\n",
       "      <th>0</th>\n",
       "      <td>328395</td>\n",
       "      <td>28879</td>\n",
       "      <td>163707</td>\n",
       "      <td>5</td>\n",
       "      <td>4019</td>\n",
       "    </tr>\n",
       "    <tr>\n",
       "      <th>1</th>\n",
       "      <td>607827</td>\n",
       "      <td>90609</td>\n",
       "      <td>146682</td>\n",
       "      <td>1</td>\n",
       "      <td>0380</td>\n",
       "    </tr>\n",
       "    <tr>\n",
       "      <th>2</th>\n",
       "      <td>577044</td>\n",
       "      <td>83314</td>\n",
       "      <td>108439</td>\n",
       "      <td>2</td>\n",
       "      <td>5070</td>\n",
       "    </tr>\n",
       "    <tr>\n",
       "      <th>3</th>\n",
       "      <td>564547</td>\n",
       "      <td>80752</td>\n",
       "      <td>180665</td>\n",
       "      <td>21</td>\n",
       "      <td>42789</td>\n",
       "    </tr>\n",
       "    <tr>\n",
       "      <th>4</th>\n",
       "      <td>591003</td>\n",
       "      <td>86662</td>\n",
       "      <td>140257</td>\n",
       "      <td>19</td>\n",
       "      <td>2724</td>\n",
       "    </tr>\n",
       "  </tbody>\n",
       "</table>\n",
       "<p>5 rows × 5 columns</p>\n",
       "</div>[5 rows x 5 columns in total]"
      ],
      "text/plain": [
       "   ROW_ID  SUBJECT_ID  HADM_ID  SEQ_NUM ICD9_CODE\n",
       "0  328395       28879   163707        5      4019\n",
       "1  607827       90609   146682        1      0380\n",
       "2  577044       83314   108439        2      5070\n",
       "3  564547       80752   180665       21     42789\n",
       "4  591003       86662   140257       19      2724\n",
       "\n",
       "[5 rows x 5 columns]"
      ]
     },
     "execution_count": 19,
     "metadata": {},
     "output_type": "execute_result"
    }
   ],
   "source": [
    "df_diagnoses_icd.head()"
   ]
  },
  {
   "cell_type": "code",
   "execution_count": null,
   "id": "17bab3bd",
   "metadata": {},
   "outputs": [],
   "source": [
    "df_diagnoses_icd.shape"
   ]
  },
  {
   "cell_type": "markdown",
   "id": "c28f146f",
   "metadata": {},
   "source": [
    "---"
   ]
  },
  {
   "cell_type": "markdown",
   "id": "d6682a3a",
   "metadata": {},
   "source": [
    "## D_ICD_DIAGNOSES\n",
    "[[ go back to the top ]](#Table-of-contents)\n"
   ]
  },
  {
   "cell_type": "code",
   "execution_count": 32,
   "id": "31b4abe4",
   "metadata": {},
   "outputs": [
    {
     "data": {
      "text/html": [
       "Query job ed3f7ecb-d331-4adf-a588-64e5c6cef2b6 is DONE. 1.4 MB processed. <a target=\"_blank\" href=\"https://console.cloud.google.com/bigquery?project=ml-pipeline-459822&j=bq:europe-west3:ed3f7ecb-d331-4adf-a588-64e5c6cef2b6&page=queryresults\">Open Job</a>"
      ],
      "text/plain": [
       "<IPython.core.display.HTML object>"
      ]
     },
     "metadata": {},
     "output_type": "display_data"
    }
   ],
   "source": [
    "df_d_icd_diagnoses = bpd.read_gbq(\"SELECT * FROM `ml-pipeline-459822.data.d_icd_diagnoses`\", use_cache=False)"
   ]
  },
  {
   "cell_type": "code",
   "execution_count": 35,
   "id": "e2328d42",
   "metadata": {},
   "outputs": [
    {
     "data": {
      "text/html": [
       "Query job 638f7e97-426e-496f-a934-6583a7c60bed is DONE. 1.4 MB processed. <a target=\"_blank\" href=\"https://console.cloud.google.com/bigquery?project=ml-pipeline-459822&j=bq:europe-west3:638f7e97-426e-496f-a934-6583a7c60bed&page=queryresults\">Open Job</a>"
      ],
      "text/plain": [
       "<IPython.core.display.HTML object>"
      ]
     },
     "metadata": {},
     "output_type": "display_data"
    },
    {
     "data": {
      "text/html": [
       "<div>\n",
       "<style scoped>\n",
       "    .dataframe tbody tr th:only-of-type {\n",
       "        vertical-align: middle;\n",
       "    }\n",
       "\n",
       "    .dataframe tbody tr th {\n",
       "        vertical-align: top;\n",
       "    }\n",
       "\n",
       "    .dataframe thead th {\n",
       "        text-align: right;\n",
       "    }\n",
       "</style>\n",
       "<table border=\"1\" class=\"dataframe\">\n",
       "  <thead>\n",
       "    <tr style=\"text-align: right;\">\n",
       "      <th></th>\n",
       "      <th>ROW_ID</th>\n",
       "      <th>ICD9_CODE</th>\n",
       "      <th>SHORT_TITLE</th>\n",
       "      <th>LONG_TITLE</th>\n",
       "    </tr>\n",
       "  </thead>\n",
       "  <tbody>\n",
       "    <tr>\n",
       "      <th>0</th>\n",
       "      <td>14184</td>\n",
       "      <td>E9839</td>\n",
       "      <td>Undet circ-suffocate NOS</td>\n",
       "      <td>Strangulation or suffocation by unspecified me...</td>\n",
       "    </tr>\n",
       "    <tr>\n",
       "      <th>1</th>\n",
       "      <td>11678</td>\n",
       "      <td>E9258</td>\n",
       "      <td>Electric current acc NEC</td>\n",
       "      <td>Accident caused by other electric current</td>\n",
       "    </tr>\n",
       "    <tr>\n",
       "      <th>2</th>\n",
       "      <td>8999</td>\n",
       "      <td>7810</td>\n",
       "      <td>Abn involun movement NEC</td>\n",
       "      <td>Abnormal involuntary movements</td>\n",
       "    </tr>\n",
       "    <tr>\n",
       "      <th>3</th>\n",
       "      <td>7735</td>\n",
       "      <td>6959</td>\n",
       "      <td>Erythematous cond NOS</td>\n",
       "      <td>Unspecified erythematous condition</td>\n",
       "    </tr>\n",
       "    <tr>\n",
       "      <th>4</th>\n",
       "      <td>399</td>\n",
       "      <td>0913</td>\n",
       "      <td>Secondary syph skin</td>\n",
       "      <td>Secondary syphilis of skin or mucous membranes</td>\n",
       "    </tr>\n",
       "  </tbody>\n",
       "</table>\n",
       "<p>5 rows × 4 columns</p>\n",
       "</div>[5 rows x 4 columns in total]"
      ],
      "text/plain": [
       "   ROW_ID ICD9_CODE               SHORT_TITLE  \\\n",
       "0   14184     E9839  Undet circ-suffocate NOS   \n",
       "1   11678     E9258  Electric current acc NEC   \n",
       "2    8999      7810  Abn involun movement NEC   \n",
       "3    7735      6959     Erythematous cond NOS   \n",
       "4     399      0913       Secondary syph skin   \n",
       "\n",
       "                                          LONG_TITLE  \n",
       "0  Strangulation or suffocation by unspecified me...  \n",
       "1          Accident caused by other electric current  \n",
       "2                     Abnormal involuntary movements  \n",
       "3                 Unspecified erythematous condition  \n",
       "4     Secondary syphilis of skin or mucous membranes  \n",
       "\n",
       "[5 rows x 4 columns]"
      ]
     },
     "execution_count": 35,
     "metadata": {},
     "output_type": "execute_result"
    }
   ],
   "source": [
    "df_d_icd_diagnoses.head()"
   ]
  },
  {
   "cell_type": "code",
   "execution_count": null,
   "id": "12805512",
   "metadata": {},
   "outputs": [],
   "source": [
    "df_d_icd_diagnoses.shape"
   ]
  },
  {
   "cell_type": "markdown",
   "id": "43b26b0b",
   "metadata": {},
   "source": [
    "---"
   ]
  },
  {
   "cell_type": "markdown",
   "id": "e9d4fba7",
   "metadata": {},
   "source": [
    "## ICUSTAYS\n",
    "[[ go back to the top ]](#Table-of-contents)\n"
   ]
  },
  {
   "cell_type": "code",
   "execution_count": null,
   "id": "386b3290",
   "metadata": {},
   "outputs": [],
   "source": [
    "df_icustays = bpd.read_gbq(\"SELECT * FROM `ml-pipeline-459822.data.icustays`\", use_cache=False)"
   ]
  },
  {
   "cell_type": "code",
   "execution_count": null,
   "id": "5744157b",
   "metadata": {},
   "outputs": [],
   "source": [
    "df_icustays.head()\n"
   ]
  },
  {
   "cell_type": "code",
   "execution_count": null,
   "id": "abab258a",
   "metadata": {},
   "outputs": [],
   "source": [
    "df_icustays.shape"
   ]
  },
  {
   "cell_type": "markdown",
   "id": "5b70ec93",
   "metadata": {},
   "source": [
    "---"
   ]
  },
  {
   "cell_type": "markdown",
   "id": "fb613612",
   "metadata": {},
   "source": [
    "## PATIENTS\n",
    "[[ go back to the top ]](#Table-of-contents)"
   ]
  },
  {
   "cell_type": "code",
   "execution_count": null,
   "id": "4e421830",
   "metadata": {},
   "outputs": [],
   "source": [
    "df_patients = bpd.read_gbq(\"SELECT * FROM `ml-pipeline-459822.data.patients`\", use_cache=False)"
   ]
  },
  {
   "cell_type": "code",
   "execution_count": null,
   "id": "5ad0e42e",
   "metadata": {},
   "outputs": [],
   "source": [
    "df_patients.head()"
   ]
  },
  {
   "cell_type": "code",
   "execution_count": null,
   "id": "cb865eb4",
   "metadata": {},
   "outputs": [],
   "source": [
    "df_patients.shape"
   ]
  },
  {
   "cell_type": "markdown",
   "id": "aa3c6af2",
   "metadata": {},
   "source": [
    "---"
   ]
  },
  {
   "cell_type": "markdown",
   "id": "97ccecc9",
   "metadata": {},
   "source": [
    "## PROCEDURES_ICD\n",
    "[[ go back to the top ]](#Table-of-contents)\n"
   ]
  },
  {
   "cell_type": "code",
   "execution_count": null,
   "id": "b9af15f0",
   "metadata": {},
   "outputs": [],
   "source": [
    "df_procedures_icd = bpd.read_gbq(\"SELECT * FROM `ml-pipeline-459822.data.procedures_icd`\", use_cache=False)"
   ]
  },
  {
   "cell_type": "code",
   "execution_count": null,
   "id": "4dcc5aeb",
   "metadata": {},
   "outputs": [],
   "source": [
    "df_procedures_icd.head()"
   ]
  },
  {
   "cell_type": "code",
   "execution_count": null,
   "id": "7dbe0dc8",
   "metadata": {},
   "outputs": [],
   "source": [
    "df_procedures_icd.shape"
   ]
  },
  {
   "cell_type": "markdown",
   "id": "5f7e69da",
   "metadata": {},
   "source": [
    "---"
   ]
  },
  {
   "cell_type": "markdown",
   "id": "4f58fcf5",
   "metadata": {},
   "source": [
    "## D_ICD_PROCEDURES\n",
    "[[ go back to the top ]](#Table-of-contents)"
   ]
  },
  {
   "cell_type": "code",
   "execution_count": null,
   "id": "237f0363",
   "metadata": {},
   "outputs": [],
   "source": [
    "df_d_icd_procedures = bpd.read_gbq(\"SELECT * FROM `ml-pipeline-459822.data.d_icd_procedures`\", use_cache=False)"
   ]
  },
  {
   "cell_type": "code",
   "execution_count": null,
   "id": "b8e9f232",
   "metadata": {},
   "outputs": [],
   "source": [
    "df_d_icd_procedures.head()"
   ]
  },
  {
   "cell_type": "code",
   "execution_count": null,
   "id": "f0914752",
   "metadata": {},
   "outputs": [],
   "source": [
    "df_icd_procedures.shape"
   ]
  },
  {
   "cell_type": "markdown",
   "id": "885f296b",
   "metadata": {},
   "source": [
    "---"
   ]
  },
  {
   "cell_type": "markdown",
   "id": "544c675c",
   "metadata": {},
   "source": [
    "## Obtain the top 3 diseases with more occurencies\n",
    "In this section, we investigate which disease occurs most frequently in the dataset."
   ]
  },
  {
   "cell_type": "code",
   "execution_count": 37,
   "id": "3ce40568",
   "metadata": {},
   "outputs": [
    {
     "name": "stdout",
     "output_type": "stream",
     "text": [
      "Top 3 most common disease codes:\n",
      "Hypertension NOS (4019) — 20703 occurrences\n",
      "CHF NOS (4280) — 13111 occurrences\n",
      "Atrial fibrillation (42731) — 12891 occurrences\n"
     ]
    }
   ],
   "source": [
    "# Step 1: Get top 3 ICD9 codes by frequency\n",
    "top_3_codes = df_diagnoses_icd['ICD9_CODE'].value_counts().head(3).index\n",
    "\n",
    "print(\"Top 3 most common disease codes:\")\n",
    "# Step 2: Loop through the top codes and retrieve their SHORT_TITLE\n",
    "for code in top_3_codes:\n",
    "    # Filter for the corresponding row in d_icd_diagnoses\n",
    "    filtered_row = df_d_icd_diagnoses[df_d_icd_diagnoses['ICD9_CODE'] == code]\n",
    "    \n",
    "    if not filtered_row.empty:\n",
    "        short_title = filtered_row['SHORT_TITLE'].values[0]\n",
    "        count = df_diagnoses_icd['ICD9_CODE'].value_counts()[code]\n",
    "        print(f\"{short_title} ({code}) — {count} occurrences\")\n",
    "    else:\n",
    "        print(f\"ICD9 code {code} not found in the descriptions table.\")"
   ]
  },
  {
   "cell_type": "markdown",
   "id": "c8433e62",
   "metadata": {},
   "source": [
    "---"
   ]
  },
  {
   "cell_type": "markdown",
   "id": "99a2e847",
   "metadata": {},
   "source": []
  }
 ],
 "metadata": {
  "kernelspec": {
   "display_name": "Python (big_data)",
   "language": "python",
   "name": "big_data-env"
  },
  "language_info": {
   "codemirror_mode": {
    "name": "ipython",
    "version": 3
   },
   "file_extension": ".py",
   "mimetype": "text/x-python",
   "name": "python",
   "nbconvert_exporter": "python",
   "pygments_lexer": "ipython3",
   "version": "3.11.9"
  }
 },
 "nbformat": 4,
 "nbformat_minor": 5
}
